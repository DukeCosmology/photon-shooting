{
 "cells": [
  {
   "cell_type": "code",
   "execution_count": 1,
   "metadata": {
    "collapsed": false
   },
   "outputs": [
    {
     "name": "stderr",
     "output_type": "stream",
     "text": [
      "//anaconda/lib/python2.7/site-packages/IPython/core/magics/extension.py:47: UserWarning: %install_ext` is deprecated, please distribute your extension as a python package.\n",
      "  \"as a python package.\", UserWarning)\n"
     ]
    },
    {
     "name": "stdout",
     "output_type": "stream",
     "text": [
      "Installed autotime.py. To use it, type:\n",
      "  %load_ext autotime\n"
     ]
    }
   ],
   "source": [
    "import sys\n",
    "import os\n",
    "import math\n",
    "import numpy as np\n",
    "import galsim\n",
    "import matplotlib.pyplot as plt\n",
    "import scipy.integrate as integrate\n",
    "\n",
    "%matplotlib inline\n",
    "#timekeeping\n",
    "%install_ext https://raw.github.com/cpcloud/ipython-autotime/master/autotime.py\n",
    "%load_ext autotime"
   ]
  },
  {
   "cell_type": "code",
   "execution_count": 2,
   "metadata": {
    "collapsed": false
   },
   "outputs": [
    {
     "name": "stdout",
     "output_type": "stream",
     "text": [
      "time: 9.65 ms\n"
     ]
    }
   ],
   "source": [
    "#constants\n",
    "#didn't use psf sigma constants\n",
    "gal1_flux_thru_r = 1.e5 #the flux through r of gal1 we want. (not passed when gal1 is created)\n",
    "gal1_sigma = 5.\n",
    "psf1_sigma = 1.\n",
    "\n",
    "gal2_flux_thru_r = 5.e4 \n",
    "gal2_sigma = 4.\n",
    "psf2_sigma = 0.5\n",
    "\n",
    "pixel_scale = 1."
   ]
  },
  {
   "cell_type": "code",
   "execution_count": 3,
   "metadata": {
    "collapsed": false
   },
   "outputs": [
    {
     "name": "stdout",
     "output_type": "stream",
     "text": [
      "time: 51.5 ms\n"
     ]
    }
   ],
   "source": [
    "#where to find and output data\n",
    "path, filename = os.path.split(\"__file__\")\n",
    "datapath = os.path.abspath(os.path.join(path, \"data/\"))\n",
    "outpath = os.path.abspath(os.path.join(path, \"output/\"))"
   ]
  },
  {
   "cell_type": "code",
   "execution_count": 76,
   "metadata": {
    "collapsed": false
   },
   "outputs": [
    {
     "name": "stdout",
     "output_type": "stream",
     "text": [
      "time: 197 ms\n"
     ]
    }
   ],
   "source": [
    "#read in the LSST filters\n",
    "filter_names = 'ugrizy'\n",
    "filters = {}\n",
    "filter_filenames = {}\n",
    "for filter_name in filter_names:\n",
    "    filter_filename = os.path.join(datapath, 'LSST_{0}.dat'.format(filter_name))\n",
    "    filters[filter_name] = galsim.Bandpass(filter_filename)\n",
    "    filters[filter_name] = filters[filter_name].withZeropoint(0.,effective_diameter=1.,exptime=1.)"
   ]
  },
  {
   "cell_type": "code",
   "execution_count": 4,
   "metadata": {
    "collapsed": false
   },
   "outputs": [
    {
     "name": "stdout",
     "output_type": "stream",
     "text": [
      "time: 52.8 ms\n"
     ]
    }
   ],
   "source": [
    "#define the components of galaxies\n",
    "\n",
    "sed1 = galsim.SED(spec=\"wave\",wave_type='nm',flux_type='fphotons')\n",
    "sed1 = sed1.withFlux(gal1_flux_thru_r,filters['r'])\n",
    "\n",
    "sed2 = galsim.SED(spec=\"300-wave\",wave_type = 'nm',flux_type = 'fphotons')\n",
    "sed2 = sed1.withFlux(gal2_flux_thru_r,filters['r'])\n",
    "\n",
    "gal1 = galsim.Gaussian(flux=1.,sigma=gal1_sigma)\n",
    "psf1 = galsim.Moffat(beta=2.5,fwhm=0.5)\n",
    "ra = galsim.HMS_Angle(\"14:03:13\")\n",
    "dec = galsim.DMS_Angle(\"54:20:57\")\n",
    "m101 = galsim.CelestialCoord(ra,dec)\n",
    "latitude = 19.8207*galsim.degrees\n",
    "HA=-1.0*galsim.hours\n",
    "za,pa = galsim.dcr.zenith_parallactic_angles(m101,HA=HA,latitude=latitude)\n",
    "chrom_psf1 = galsim.ChromaticAtmosphere(psf1,500.,obj_coord=m101,latitude=latitude,HA=HA)\n",
    "\n",
    "\n",
    "gal2 = galsim.Gaussian(flux=1.,sigma=gal2_sigma)\n",
    "psf2 = galsim.Gaussian(flux=1.,sigma = psf2_sigma)\n",
    "ra = galsim.HMS_Angle(\"14:13:13\")\n",
    "dec = galsim.DMS_Angle(\"54:50:57\")\n",
    "rand_thing_next_to_m101 = galsim.CelestialCoord(ra,dec)\n",
    "latitude_seoul = 37.5665*galsim.degrees #seoul\n",
    "za,pa = galsim.dcr.zenith_parallactic_angles(rand_thing_next_to_m101,HA=HA,latitude=latitude)\n",
    "chrom_psf2 = galsim.ChromaticAtmosphere(psf2,500.,obj_coord=rand_thing_next_to_m101,latitude=latitude_seoul,HA=HA)\n",
    "\n",
    "chrom_gal1 = gal1*sed1\n",
    "chrom_gal2 = gal2*sed2\n",
    "\n",
    "chrom_total1 = galsim.Convolve([chrom_gal1,chrom_psf1])\n",
    "chrom_total2 = galsim.Convolve([chrom_gal2,chrom_psf2])"
   ]
  },
  {
   "cell_type": "code",
   "execution_count": 5,
   "metadata": {
    "collapsed": false
   },
   "outputs": [
    {
     "name": "stdout",
     "output_type": "stream",
     "text": [
      "time: 115 ms\n"
     ]
    }
   ],
   "source": [
    "#note: sed must have been normalized from specified flux@filter in advance.\n",
    "def photshoot(x_pixel=128, y_pixel=128, gal_array = [], sed_array=[], psf_array =[], bounds_array = [], filter_dic=filters):\n",
    "    \n",
    "    #check that input arrays are same length\n",
    "    check_list = [gal_array, sed_array, psf_array, bounds_array]\n",
    "    one_length = len(check_list[0])\n",
    "    if all(len(x) == one_length for x in check_list):\n",
    "        pass\n",
    "    else:\n",
    "        raise TypeError(\"input arrays must be same length\")\n",
    "    \n",
    "    #check that bounds have length 4\n",
    "    for bounds in bounds_array:\n",
    "        if len(bounds) != 4:\n",
    "            raise TypeError(\"bounds must have length 4\")\n",
    "    \n",
    "    waverange = np.arange(300.,1100.)\n",
    "    \n",
    "    #normalizes given list to unity to make PDF\n",
    "    def normalize(list):\n",
    "        return [float(i)/(sum(list)) for i in list]\n",
    "\n",
    "    #randomly generate lams according to PDF formed from given sed and filter\n",
    "    def generate_lams(sedf,num,filterf=None):\n",
    "        #num: number of photons through filterf\n",
    "        if filterf==None:\n",
    "            raw = sedf\n",
    "        else:\n",
    "            raw = sedf*filterf\n",
    "        rawlist=[]\n",
    "        for lam in waverange: \n",
    "            rawlist.append(raw.__call__(lam))\n",
    "        norm = normalize(rawlist)  \n",
    "        return np.random.choice(waverange,num,True,norm)\n",
    "    \n",
    "    #generate wavelengths, picked from PDF\n",
    "    #lams[filter_name] = [list of lams for galaxy 1, list of lams for gal2, ...]\n",
    "    lams={}\n",
    "    for filter_name,filter_ in filter_dic.iteritems():\n",
    "        lams[filter_name] = []\n",
    "        for sed_item in sed_array:\n",
    "            lams[filter_name].append(generate_lams(sed_item,sed_item.calculateFlux(filter_),filter_))\n",
    "    \n",
    "    #total combined SED\n",
    "    combined_sed = np.sum(sed_array)\n",
    "    \n",
    "    #total number of galaxies\n",
    "    n = len(sed_array)\n",
    "    \n",
    "    #declare dic of output images\n",
    "    photinline = {}\n",
    "    \n",
    "    for filter_name, filter_ in filters.iteritems():\n",
    "        #larger image to draw all our galaxies into\n",
    "        photimg = galsim.ImageF(x_pixel, y_pixel, scale=1.)\n",
    "        #make subimages (bounds) for each galaxy\n",
    "        gal_images = []\n",
    "        for bounds in bounds_array:\n",
    "            gal_images.append(photimg[galsim.BoundsI(bounds[0],bounds[1],bounds[2],bounds[3])])\n",
    "        \n",
    "        #choose_gal looks like [0,0,1,2,2,2,3,...] i.e. weights occurrence of num_label with gal_flux\n",
    "        #i.e. galaxies with more flux will be chosen more often\n",
    "        choose_gal = []\n",
    "        for num_label in np.arange(n):\n",
    "            choose_gal += [num_label]*(sed_array[num_label].calculateFlux(filter_))\n",
    "        \n",
    "        #choose_gal_rand uniform-randomly chooses from choose_gal, the total-flux # of times\n",
    "        choose_gal_rand = np.random.choice(choose_gal, size=combined_sed.calculateFlux(filter_))\n",
    "        \n",
    "        #note random variable RV equals num_label of galaxy\n",
    "        for RV in choose_gal_rand:\n",
    "            lam = np.random.choice(lams[filter_name][RV])\n",
    "            chrompart = sed_array[RV]*filter_\n",
    "            inter_chromgal = gal_array[RV]*chrompart.withFluxDensity(1.,lam)\n",
    "            inter_chromtotal = galsim.Convolve([inter_chromgal,psf_array[RV]]) #chromtot = chromgal + psf\n",
    "            mono = inter_chromtotal.evaluateAtWavelength(lam)\n",
    "            mono.drawImage(image=gal_images[RV], method='phot',scale=1.,n_photons=1,add_to_image=True)\n",
    "        photinline[filter_name] = photimg\n",
    "        \n",
    "    return photinline\n"
   ]
  },
  {
   "cell_type": "code",
   "execution_count": 62,
   "metadata": {
    "collapsed": false
   },
   "outputs": [
    {
     "name": "stderr",
     "output_type": "stream",
     "text": [
      "/anaconda/lib/python2.7/site-packages/ipykernel/__main__.py:34: DeprecationWarning: using a non-integer number instead of an integer will result in an error in the future\n",
      "/anaconda/lib/python2.7/site-packages/ipykernel/__main__.py:64: DeprecationWarning: using a non-integer number instead of an integer will result in an error in the future\n",
      "/anaconda/lib/python2.7/site-packages/ipykernel/__main__.py:67: DeprecationWarning: using a non-integer number instead of an integer will result in an error in the future\n"
     ]
    },
    {
     "name": "stdout",
     "output_type": "stream",
     "text": [
      "time: 17min 21s\n"
     ]
    }
   ],
   "source": [
    "#call my photon shooting method on one galaxy\n",
    "photinline = photshoot(gal_array=[gal1], sed_array=[sed1],psf_array=[chrom_psf1],bounds_array=[[20,115,1,96])"
   ]
  },
  {
   "cell_type": "code",
   "execution_count": 63,
   "metadata": {
    "collapsed": false
   },
   "outputs": [
    {
     "name": "stdout",
     "output_type": "stream",
     "text": [
      "g  :  262990.0\n",
      "i  :  384281.0\n",
      "r  :  349999.0\n",
      "u  :  51224.0\n",
      "y  :  229621.0\n",
      "z  :  353720.0\n",
      "time: 37.9 ms\n"
     ]
    }
   ],
   "source": [
    "#flux per filter of my photon shooting images\n",
    "for filter_name, filter_ in filters.iteritems():\n",
    "    print filter_name,\" : \",np.sum(photinline[filter_name].array)"
   ]
  },
  {
   "cell_type": "code",
   "execution_count": 64,
   "metadata": {
    "collapsed": false
   },
   "outputs": [
    {
     "name": "stdout",
     "output_type": "stream",
     "text": [
      "g 262990.417459\n",
      "i 384281.390781\n",
      "r 350000.0\n",
      "u 51224.5292096\n",
      "y 229621.018812\n",
      "z 353720.539948\n",
      "time: 8.83 ms\n"
     ]
    }
   ],
   "source": [
    "#expected flux per filter\n",
    "for filter_name, filter_ in filters.iteritems():\n",
    "    print filter_name, sed1.calculateFlux(filter_)"
   ]
  },
  {
   "cell_type": "code",
   "execution_count": 65,
   "metadata": {
    "collapsed": false
   },
   "outputs": [
    {
     "data": {
      "text/plain": [
       "<matplotlib.colorbar.Colorbar at 0x111c3fb50>"
      ]
     },
     "execution_count": 65,
     "metadata": {},
     "output_type": "execute_result"
    },
    {
     "data": {
      "image/png": "[encoded data removed]",
      "text/plain": [
       "<matplotlib.figure.Figure at 0x10e68d310>"
      ]
     },
     "metadata": {},
     "output_type": "display_data"
    },
    {
     "name": "stdout",
     "output_type": "stream",
     "text": [
      "time: 597 ms\n"
     ]
    }
   ],
   "source": [
    "#view the photon shooting image\n",
    "plt.imshow(photinline['g'].array)\n",
    "plt.colorbar()"
   ]
  },
  {
   "cell_type": "markdown",
   "metadata": {},
   "source": [
    "# Generate FFT Images"
   ]
  },
  {
   "cell_type": "code",
   "execution_count": 72,
   "metadata": {
    "collapsed": false
   },
   "outputs": [
    {
     "name": "stdout",
     "output_type": "stream",
     "text": [
      "time: 2.45 s\n"
     ]
    }
   ],
   "source": [
    "#here is code for making FFT images of the same galaxy\n",
    "fftinline = {}\n",
    "chromgal1 = gal1*sed1\n",
    "chrom_final = galsim.Convolve([chromgal1,chrom_psf1])\n",
    "\n",
    "for filter_name, filter_ in filters.iteritems():\n",
    "    fftimg = galsim.ImageF(128, 128, scale = 1.)\n",
    "    bounded = fftimg[galsim.BoundsI(20,115,1,96)]\n",
    "    chrom_final.drawImage(filter_, image = bounded, scale = 1., method='fft', add_to_image=True)\n",
    "    fftinline[filter_name] = fftimg"
   ]
  },
  {
   "cell_type": "code",
   "execution_count": 73,
   "metadata": {
    "collapsed": false
   },
   "outputs": [
    {
     "data": {
      "text/plain": [
       "<matplotlib.colorbar.Colorbar at 0x1151002d0>"
      ]
     },
     "execution_count": 73,
     "metadata": {},
     "output_type": "execute_result"
    },
    {
     "data": {
      "image/png": "[encoded data removed]",
      "text/plain": [
       "<matplotlib.figure.Figure at 0x10d367f50>"
      ]
     },
     "metadata": {},
     "output_type": "display_data"
    },
    {
     "name": "stdout",
     "output_type": "stream",
     "text": [
      "time: 438 ms\n"
     ]
    }
   ],
   "source": [
    "#view the FFT image\n",
    "plt.imshow(fftinline['g'].array)\n",
    "plt.colorbar()"
   ]
  },
  {
   "cell_type": "markdown",
   "metadata": {},
   "source": [
    "# Chi-sq Comparison with FFT"
   ]
  },
  {
   "cell_type": "code",
   "execution_count": 74,
   "metadata": {
    "collapsed": false
   },
   "outputs": [
    {
     "name": "stdout",
     "output_type": "stream",
     "text": [
      "3112 3112\n",
      "3209 3209\n",
      "3224 3224\n",
      "2529 2529\n",
      "3073 3073\n",
      "3196 3196\n",
      "time: 1.46 s\n"
     ]
    }
   ],
   "source": [
    "#just take pixels with value > 0.5, to reduce computation time\n",
    "\n",
    "leftphotz = {}\n",
    "leftfftz = {}\n",
    "ilist = {}\n",
    "for filter_name,filter_ in filters.iteritems():\n",
    "    leftphotz[filter_name] = []\n",
    "    leftfftz[filter_name] = []\n",
    "    ilist[filter_name] = []\n",
    "    for i in np.arange(128*128):\n",
    "        if photinline[filter_name].array.flatten()[i]>0.5:\n",
    "            ilist[filter_name].append(i)\n",
    "            leftphotz[filter_name].append(photinline[filter_name].array.flatten()[i])\n",
    "            leftfftz[filter_name].append(fftinline[filter_name].array.flatten()[i])\n",
    "    print len(ilist[filter_name]), len(leftphotz[filter_name])"
   ]
  },
  {
   "cell_type": "code",
   "execution_count": 75,
   "metadata": {
    "collapsed": false
   },
   "outputs": [
    {
     "name": "stdout",
     "output_type": "stream",
     "text": [
      "g 1.02389345929\n",
      "i 0.990176249903\n",
      "r 0.961042304784\n",
      "u 1.04713883406\n",
      "y 1.03053831379\n",
      "z 0.966441358583\n",
      "time: 11.4 ms\n"
     ]
    }
   ],
   "source": [
    "from scipy.stats import chisquare\n",
    "chis = {}\n",
    "pvals = {}\n",
    "chis_2d = {}\n",
    "pvals_2d = {}\n",
    "for filter_name,filter_ in filters.iteritems():\n",
    "    chis[filter_name],pvals[filter_name] = chisquare(leftfftz[filter_name],f_exp=leftphotz[filter_name],ddof = len(ilist[filter_name]))\n",
    "    #chis_2d[filter_name], pvals_2d[filter_name] = chisquare(phots[filter_name],f_exp=ffts[filter_name],axis=None)\n",
    "    print filter_name, chis[filter_name]/len(ilist[filter_name])"
   ]
  },
  {
   "cell_type": "code",
   "execution_count": 57,
   "metadata": {
    "collapsed": false
   },
   "outputs": [
    {
     "name": "stdout",
     "output_type": "stream",
     "text": [
      "time: 5.83 ms\n"
     ]
    }
   ],
   "source": [
    "def my_chisq(obslist, explist):\n",
    "    errorlist = []\n",
    "    chisum = 0\n",
    "    for i in np.arange(len(obslist)):\n",
    "        errorlist.append(float((obslist[i]-explist[i])**2)/obslist[i])\n",
    "    chisum = sum(errorlist)\n",
    "    return chisum, errorlist"
   ]
  },
  {
   "cell_type": "code",
   "execution_count": 58,
   "metadata": {
    "collapsed": false
   },
   "outputs": [
    {
     "name": "stdout",
     "output_type": "stream",
     "text": [
      "time: 53.6 ms\n"
     ]
    }
   ],
   "source": [
    "chisums = {}\n",
    "errorlists = {}\n",
    "for filter_name,filter_ in filters.iteritems():\n",
    "    chisums[filter_name], errorlists[filter_name] = my_chisq(leftphotz[filter_name],leftfftz[filter_name])"
   ]
  }
 ],
 "metadata": {
  "kernelspec": {
   "display_name": "Python 2",
   "language": "python",
   "name": "python2"
  },
  "language_info": {
   "codemirror_mode": {
    "name": "ipython",
    "version": 2
   },
   "file_extension": ".py",
   "mimetype": "text/x-python",
   "name": "python",
   "nbconvert_exporter": "python",
   "pygments_lexer": "ipython2",
   "version": "2.7.11"
  }
 },
 "nbformat": 4,
 "nbformat_minor": 0
}
